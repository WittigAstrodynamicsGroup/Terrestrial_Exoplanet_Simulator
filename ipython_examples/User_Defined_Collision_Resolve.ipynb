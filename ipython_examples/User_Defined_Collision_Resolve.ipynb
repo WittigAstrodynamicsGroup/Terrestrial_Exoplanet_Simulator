{
 "cells": [
  {
   "cell_type": "markdown",
   "metadata": {},
   "source": [
    "# User Defined Rebound Collision Resolutions\n",
    "\n",
    "In the [CloseEncounter](https://rebound.readthedocs.io/en/latest/ipython/CloseEncounters.html) example, we discuss methods for resolving collisions in REBOUND through exceptions and the use of the `sim.collision_resolve = \"merge\"` method.\n",
    "\n",
    "Using the same 3-Body setup, let us explore how to define and implement the same collision resolution function in python and pass it to the `sim.collision_resolve` function pointer."
   ]
  },
  {
   "cell_type": "code",
   "execution_count": 1,
   "metadata": {},
   "outputs": [],
   "source": [
    "import rebound\n",
    "import numpy as np\n",
    "import matplotlib.pyplot as plt\n",
    "\n",
    "def setupSimulation():\n",
    "    ''' Setup the 3-Body scenario'''\n",
    "    sim = rebound.Simulation()\n",
    "    sim.integrator = \"ias15\" # IAS15 is the default integrator, so we don't need this line\n",
    "    sim.add(m=1.)\n",
    "    sim.add(m=1e-3, a=1., r=np.sqrt(1e-3/3.)) # we now set collision radii!\n",
    "    sim.add(m=5e-3, a=1.25, r=1.25*np.sqrt(5e-3/3.))\n",
    "    sim.move_to_com()\n",
    "    return sim"
   ]
  },
  {
   "cell_type": "markdown",
   "metadata": {},
   "source": [
    "To reiterate the previous method, let's run the built-in `merge` collision resolution method"
   ]
  },
  {
   "cell_type": "code",
   "execution_count": 2,
   "metadata": {},
   "outputs": [
    {
     "name": "stdout",
     "output_type": "stream",
     "text": [
      "Particles in the simulation at t=   0.0: 3\n",
      "System Mass: [1.0, 0.001, 0.005]\n",
      "Particles in the simulation at t= 100.0: 2\n",
      "System Mass: [1.0, 0.006]\n"
     ]
    }
   ],
   "source": [
    "sim = setupSimulation()\n",
    "sim.collision = \"direct\"\n",
    "sim.collision_resolve = \"merge\" # Built in function\n",
    "\n",
    "print(\"Particles in the simulation at t=%6.1f: %d\"%(sim.t,sim.N))\n",
    "print(\"System Mass: {}\".format([p.m for p in sim.particles]))\n",
    "sim.integrate(100.)\n",
    "print(\"Particles in the simulation at t=%6.1f: %d\"%(sim.t,sim.N))\n",
    "print(\"System Mass: {}\".format([p.m for p in sim.particles]))"
   ]
  },
  {
   "cell_type": "markdown",
   "metadata": {},
   "source": [
    "We can see above that two particles merged into one with a combined mass of 0.006.\n",
    "\n",
    "Let's now try to implement this collision function ourselves!\n",
    "\n",
    "To do this, we need to write a function which we can pass to `sim.collision_resolve`. In this case let's define `my_merge`. \n",
    "\n",
    "Now, whenever a collision occurs, REBOUND will pass our function two parameters:\n",
    "\n",
    " - `sim_pointer`: a pointer to the simulation object which the collision occurred in.\n",
    "   - Because it is a ctypes pointer, you will need to use the `.contents` attribute to access the simulation object\n",
    " - `collision`: this structure contains the attributes .p1 and .p2 which are the indices of the two particles involved in the collision\n",
    "\n",
    "Using these inputs, we can define the necessary logic to handle the collision. The return value of our function determines how REBOUND proceeds afterwards:\n",
    "\n",
    " - 0: Simulation continues without changes\n",
    " - 1: remove p1 from simulation\n",
    " - 2: remove p2 from simulation\n",
    "\n",
    "Let us look at how this information can be used to implement the logic of the `merge` method for colliding particles in a totally inelastic collision."
   ]
  },
  {
   "cell_type": "code",
   "execution_count": 3,
   "metadata": {},
   "outputs": [],
   "source": [
    "def my_merge(sim_pointer, collided_particles_index):\n",
    "\n",
    "    sim = sim_pointer.contents # retreive the standard simulation object\n",
    "    ps = sim.particles # easy access to list of particles\n",
    "\n",
    "    i = collided_particles_index.p1   # Note that p1 < p2 is not guaranteed.    \n",
    "    j = collided_particles_index.p2 \n",
    "\n",
    "    # This part is exciting! We can execute additional code during collisions now!\n",
    "    fig, ax = rebound.OrbitPlot(sim, xlim = (-1.3, 1.3), ylim = (-1.3, 1.3), color=['blue', 'green'])\n",
    "    ax.set_title(\"Merging particle {} into {}\".format(j, i))\n",
    "    ax.text(ps[1].x, ps[1].y, \"1\"); \n",
    "    ax.text(ps[2].x, ps[2].y, \"2\")\n",
    "    # So we plot the scenario exactly at the timestep that the collision function is triggered\n",
    "\n",
    "    # Merging Logic \n",
    "    total_mass = ps[i].m + ps[j].m\n",
    "    merged_planet = (ps[i] * ps[i].m + ps[j] * ps[j].m)/total_mass # conservation of momentum\n",
    "\n",
    "    # merged radius assuming a uniform density\n",
    "    merged_radius = (ps[i].r**3 + ps[j].r**3)**(1/3)\n",
    "\n",
    "    ps[i] = merged_planet   # update p1's state vector (mass and radius will need corrections)\n",
    "    ps[i].m = total_mass    # update to total mass\n",
    "    ps[i].r = merged_radius # update to joined radius\n",
    "\n",
    "    return 2 # remove particle with index j"
   ]
  },
  {
   "cell_type": "markdown",
   "metadata": {},
   "source": [
    "Now we can set our new collision resolution function in the simulation object."
   ]
  },
  {
   "cell_type": "code",
   "execution_count": 4,
   "metadata": {
    "tags": []
   },
   "outputs": [
    {
     "data": {
      "image/png": "[encoded data removed]",
      "text/plain": [
       "<Figure size 360x360 with 1 Axes>"
      ]
     },
     "metadata": {
      "needs_background": "light"
     },
     "output_type": "display_data"
    }
   ],
   "source": [
    "sim = setupSimulation()\n",
    "sim.collision = \"direct\"\n",
    "ps = sim.particles\n",
    "sim.collision_resolve = my_merge # user defined collision resolution function\n",
    "sim.integrate(100.)"
   ]
  },
  {
   "cell_type": "markdown",
   "metadata": {},
   "source": [
    "Note that we were not only able to resolve the collision, but also to run additional code during the collision, in this case to make a plot, which can be very useful for debugging or logging. Now that you know the basics, you can expand the scenario here and resolve collisions according to the astrophysical problem you are working on."
   ]
  }
 ],
 "metadata": {
  "kernelspec": {
   "display_name": "Python 3",
   "language": "python",
   "name": "python3"
  },
  "language_info": {
   "codemirror_mode": {
    "name": "ipython",
    "version": 3
   },
   "file_extension": ".py",
   "mimetype": "text/x-python",
   "name": "python",
   "nbconvert_exporter": "python",
   "pygments_lexer": "ipython3",
   "version": "3.7.7"
  }
 },
 "nbformat": 4,
 "nbformat_minor": 1
}

{
 "cells": [
  {
   "cell_type": "markdown",
   "metadata": {},
   "source": [
    "# Additional forces\n",
    "REBOUND is a gravitational N-body integrator. But you can also use it to integrate systems with additional, non-gravitational forces.\n",
    "\n",
    "This tutorial gives you a very quick overview of how that works. Implementing additional forces in python as below will typically be a factor of a few slower than a C implementation.  For a library that has C implementations for several commonly used additional effects (with everything callable from Python), see [REBOUNDx](https://github.com/dtamayo/reboundx).\n",
    "\n",
    "**Stark problem**\n",
    "\n",
    "We'll start by adding two particles, the Sun and an Earth-like planet, to REBOUND."
   ]
  },
  {
   "cell_type": "code",
   "execution_count": 1,
   "metadata": {
    "collapsed": true,
    "jupyter": {
     "outputs_hidden": true
    }
   },
   "outputs": [],
   "source": [
    "import rebound\n",
    "sim = rebound.Simulation()\n",
    "sim.integrator = \"whfast\"\n",
    "sim.add(m=1.)\n",
    "sim.add(m=1e-6,a=1.)\n",
    "sim.move_to_com()  # Moves to the center of momentum frame"
   ]
  },
  {
   "cell_type": "markdown",
   "metadata": {},
   "source": [
    "We could integrate this system, and the planet would go around the star at a fixed orbit with $a=1$ forever. Let's add an additional constant force that acts on the planet and points in one direction $F_x = m\\cdot c$, where $m$ is the planet's mass and $c$ a constant. This is called the Stark problem. In python, we can describe this with the following function"
   ]
  },
  {
   "cell_type": "code",
   "execution_count": 2,
   "metadata": {
    "collapsed": false,
    "jupyter": {
     "outputs_hidden": false
    }
   },
   "outputs": [],
   "source": [
    "ps = sim.particles\n",
    "c = 0.01\n",
    "def starkForce(reb_sim):\n",
    "    ps[1].ax += c"
   ]
  },
  {
   "cell_type": "markdown",
   "metadata": {},
   "source": [
    "Next, we need to tell REBOUND about this function. "
   ]
  },
  {
   "cell_type": "code",
   "execution_count": 3,
   "metadata": {
    "collapsed": false,
    "jupyter": {
     "outputs_hidden": false
    }
   },
   "outputs": [],
   "source": [
    "sim.additional_forces = starkForce"
   ]
  },
  {
   "cell_type": "markdown",
   "metadata": {},
   "source": [
    "Now we can just integrate as usual. Let's keep track of the eccentricity as we integrate as it will change due to the additional force."
   ]
  },
  {
   "cell_type": "code",
   "execution_count": 4,
   "metadata": {
    "collapsed": false,
    "jupyter": {
     "outputs_hidden": false
    }
   },
   "outputs": [],
   "source": [
    "import numpy as np\n",
    "Nout = 1000\n",
    "es = np.zeros(Nout)\n",
    "times = np.linspace(0.,100.*2.*np.pi,Nout)\n",
    "for i, time in enumerate(times):\n",
    "    sim.integrate(time, exact_finish_time=0) # integrate to the nearest timestep so WHFast's timestep stays constant\n",
    "    es[i] = sim.particles[1].e "
   ]
  },
  {
   "cell_type": "markdown",
   "metadata": {},
   "source": [
    "And let's plot the result."
   ]
  },
  {
   "cell_type": "code",
   "execution_count": 5,
   "metadata": {
    "collapsed": false,
    "jupyter": {
     "outputs_hidden": false
    }
   },
   "outputs": [
    {
     "data": {
      "image/png": "[encoded data removed]",
      "text/plain": [
       "<matplotlib.figure.Figure at 0x106c2da90>"
      ]
     },
     "metadata": {},
     "output_type": "display_data"
    }
   ],
   "source": [
    "%matplotlib inline\n",
    "import matplotlib.pyplot as plt\n",
    "fig = plt.figure(figsize=(15,5))\n",
    "ax = plt.subplot(111)\n",
    "plt.plot(times, es);"
   ]
  },
  {
   "cell_type": "markdown",
   "metadata": {},
   "source": [
    "You can see that the eccentricity is oscillating between 0 and almost 1. \n",
    "\n",
    "Note that the function `starkForce(reb_sim)` above receives the argument `reb_sim` when it is called. This is a pointer to the simulation structure. Instead of using the global `ps` variable to access particle data, one could also use `reb_sim.contents.particles`. This could be useful when one is running multiple simulations in parallel or when the particles get added and removed (in those cases `particles` might change). The `contents` has the same meaning as a `->` in C, i.e. follow the memory address. To find out more about pointers, check out the [ctypes documentation](https://docs.python.org/3/library/ctypes.html#pointers).\n",
    "\n",
    "\n",
    "**Non-conservative forces**\n",
    "\n",
    "The previous example assumed a conservative force, i.e. we could describe it as a potential as it is velocity independent. Now, let's assume we have a velocity dependent force. This could be a migration force in a protoplanetary disk or PR drag. We'll start from scratch and add the same two particles as before."
   ]
  },
  {
   "cell_type": "code",
   "execution_count": 6,
   "metadata": {
    "collapsed": true,
    "jupyter": {
     "outputs_hidden": true
    }
   },
   "outputs": [],
   "source": [
    "sim = rebound.Simulation()\n",
    "sim.integrator = \"ias15\"\n",
    "sim.add(m=1.)\n",
    "sim.add(m=1e-6,a=1.)\n",
    "sim.move_to_com()  # Moves to the center of momentum frame"
   ]
  },
  {
   "cell_type": "markdown",
   "metadata": {},
   "source": [
    "But we change the additional force to be"
   ]
  },
  {
   "cell_type": "code",
   "execution_count": 7,
   "metadata": {
    "collapsed": true,
    "jupyter": {
     "outputs_hidden": true
    }
   },
   "outputs": [],
   "source": [
    "ps = sim.particles\n",
    "tau = 1000.\n",
    "def migrationForce(reb_sim):\n",
    "    ps[1].ax -= ps[1].vx/tau\n",
    "    ps[1].ay -= ps[1].vy/tau\n",
    "    ps[1].az -= ps[1].vz/tau"
   ]
  },
  {
   "cell_type": "markdown",
   "metadata": {},
   "source": [
    "We need to let REBOUND know that our force is velocity dependent. Otherwise, REBOUND will not update the velocities of the particles. "
   ]
  },
  {
   "cell_type": "code",
   "execution_count": 8,
   "metadata": {
    "collapsed": true,
    "jupyter": {
     "outputs_hidden": true
    }
   },
   "outputs": [],
   "source": [
    "sim.additional_forces = migrationForce\n",
    "sim.force_is_velocity_dependent = 1"
   ]
  },
  {
   "cell_type": "markdown",
   "metadata": {},
   "source": [
    "Now, we integrate as before. But this time we keep track of the semi-major axis instead of the eccentricity."
   ]
  },
  {
   "cell_type": "code",
   "execution_count": 9,
   "metadata": {
    "collapsed": false,
    "jupyter": {
     "outputs_hidden": false
    }
   },
   "outputs": [
    {
     "data": {
      "image/png": "[encoded data removed]",
      "text/plain": [
       "<matplotlib.figure.Figure at 0x108c955c0>"
      ]
     },
     "metadata": {},
     "output_type": "display_data"
    }
   ],
   "source": [
    "Nout = 1000\n",
    "a_s = np.zeros(Nout)\n",
    "times = np.linspace(0.,100.*2.*np.pi,Nout)\n",
    "for i, time in enumerate(times):\n",
    "    sim.integrate(time)\n",
    "    a_s[i] = sim.particles[1].a \n",
    "fig = plt.figure(figsize=(15,5))\n",
    "ax = plt.subplot(111)\n",
    "ax.set_xlabel(\"time\")\n",
    "ax.set_ylabel(\"semi-major axis\")\n",
    "plt.plot(times, a_s);"
   ]
  },
  {
   "cell_type": "markdown",
   "metadata": {},
   "source": [
    "The semi-major axis decays exponentially on a timescale `tau`.\n",
    "\n",
    "In the above example, REBOUND is calling a python function at every timestep. This can be slow. Note that you can also set `rebound.additional_forces` to a c function pointer. This let's you speed up the simulation significantly. However, you need to write your own c function/library that knows how to calculate the forces. Or, you use Dan Tamayo's new migration library (in preparation)."
   ]
  }
 ],
 "metadata": {
  "kernelspec": {
   "display_name": "Python 3",
   "language": "python",
   "name": "python3"
  },
  "language_info": {
   "codemirror_mode": {
    "name": "ipython",
    "version": 3
   },
   "file_extension": ".py",
   "mimetype": "text/x-python",
   "name": "python",
   "nbconvert_exporter": "python",
   "pygments_lexer": "ipython3",
   "version": "3.7.3"
  }
 },
 "nbformat": 4,
 "nbformat_minor": 4
}
